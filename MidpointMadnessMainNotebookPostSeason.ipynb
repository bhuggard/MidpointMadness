{
 "cells": [
  {
   "cell_type": "markdown",
   "metadata": {},
   "source": [
    "## Dependencies"
   ]
  },
  {
   "cell_type": "code",
   "execution_count": 1,
   "metadata": {},
   "outputs": [],
   "source": [
    "#Import dependencies\n",
    "\n",
    "#NFL pbp data\n",
    "import nfl_data_py as nfl\n",
    "\n",
    "#Basics / visualizations\n",
    "import pandas as pd\n",
    "import numpy as np\n",
    "from matplotlib import pyplot as plt\n",
    "import seaborn as sns\n",
    "\n",
    "#Machine learning tools\n",
    "import xgboost as xgb\n",
    "from sklearn.compose import ColumnTransformer\n",
    "from sklearn.preprocessing import OneHotEncoder, StandardScaler\n",
    "from sklearn.pipeline import Pipeline\n",
    "from sklearn.metrics import mean_squared_error\n",
    "from sklearn.model_selection import train_test_split\n",
    "\n",
    "#Stats Stuff\n",
    "from scipy import stats\n",
    "from scipy.stats import t\n",
    "from scipy.stats import truncnorm\n",
    "\n",
    "#Turn off max columns for pandas DataFrame\n",
    "pd.set_option('display.max_columns', None)\n",
    "\n",
    "#Turn off when showing off, switch comments to change\n",
    "pd.options.mode.chained_assignment = None  # Disable the warning\n",
    "# pd.options.mode.chained_assignment = 'warn'"
   ]
  },
  {
   "cell_type": "markdown",
   "metadata": {},
   "source": [
    "## Importing and Prepping Schedules"
   ]
  },
  {
   "cell_type": "code",
   "execution_count": 2,
   "metadata": {},
   "outputs": [],
   "source": [
    "schedules_df = nfl.import_schedules([2017, 2018, 2019, 2020, 2021, 2022, 2023, 2024])"
   ]
  },
  {
   "cell_type": "code",
   "execution_count": 3,
   "metadata": {},
   "outputs": [],
   "source": [
    "def calculate_implied_totals(df):\n",
    "    \"\"\"\n",
    "    Calculate the implied home and away team totals based on the spread and total lines.\n",
    "    \"\"\"\n",
    "    #Implied totals based on the total and spread lines\n",
    "    df['implied_home_total'] = (df['total_line'] + df['spread_line']) / 2\n",
    "    df['implied_away_total'] = (df['total_line'] - df['spread_line']) / 2\n",
    "    \n",
    "    return df"
   ]
  },
  {
   "cell_type": "code",
   "execution_count": 4,
   "metadata": {},
   "outputs": [],
   "source": [
    "schedules_df = calculate_implied_totals(schedules_df)"
   ]
  },
  {
   "cell_type": "code",
   "execution_count": 5,
   "metadata": {},
   "outputs": [],
   "source": [
    "schedules_df.drop(columns= ['away_coach', 'home_coach', 'referee',\n",
    "       'stadium_id', 'stadium', 'away_score', 'home_score',\n",
    "       'location', 'result', 'total', 'overtime', 'old_game_id', 'gsis',\n",
    "       'nfl_detail_id', 'pfr', 'pff', 'espn', 'ftn', 'away_rest', 'home_rest',\n",
    "       'away_moneyline', 'home_moneyline', 'spread_line', 'away_spread_odds',\n",
    "       'home_spread_odds', 'total_line', 'under_odds', 'over_odds', 'div_game', 'away_qb_id', 'home_qb_id', 'gameday', 'weekday',\n",
    "       'gametime'], inplace=True)"
   ]
  },
  {
   "cell_type": "code",
   "execution_count": 6,
   "metadata": {},
   "outputs": [],
   "source": [
    "#Create a DataFrame for away quarterbacks\n",
    "away_df = schedules_df[['game_id', 'season', 'game_type', 'week', 'away_team', 'home_team', 'away_qb_name', 'implied_away_total', 'roof', 'surface',]].copy()\n",
    "away_df.rename(columns={'away_qb_name': 'qb_name', 'implied_away_total': 'implied_total'}, inplace=True)\n",
    "away_df['home_away'] = 'away'\n",
    "away_df['posteam'] = away_df['away_team']\n",
    "away_df['defteam'] = away_df['home_team']\n",
    "\n",
    "#Create a DataFrame for home quarterbacks\n",
    "home_df = schedules_df[['game_id', 'season', 'game_type', 'week', 'away_team', 'home_team', 'home_qb_name', 'implied_home_total', 'roof', 'surface']].copy()\n",
    "home_df.rename(columns={'home_qb_name': 'qb_name', 'implied_home_total': 'implied_total'}, inplace=True)\n",
    "home_df['home_away'] = 'home'\n",
    "home_df['posteam'] = home_df['home_team']\n",
    "home_df['defteam'] = home_df['away_team']\n",
    "\n",
    "#Concatenate both DataFrames\n",
    "combined_schedule_df = pd.concat([away_df, home_df])\n",
    "\n",
    "#Reset index for cleanliness\n",
    "combined_schedule_df.reset_index(drop=True, inplace=True)"
   ]
  },
  {
   "cell_type": "code",
   "execution_count": 7,
   "metadata": {},
   "outputs": [],
   "source": [
    "def format_passer_name(qb_name):\n",
    "    if pd.isna(qb_name):  #Check if the name is NaN\n",
    "        return \"\"\n",
    "    \n",
    "    name_parts = qb_name.split()\n",
    "    \n",
    "    #Extract the first name and last name\n",
    "    first_name = name_parts[0]\n",
    "    last_name = name_parts[-1]  # Last name should always be the last part\n",
    "    \n",
    "    return f\"{first_name[0]}.{last_name}\"\n",
    "\n",
    "#Apply the function to create the new 'player_passer_name' column\n",
    "combined_schedule_df['passer_player_name'] = combined_schedule_df['qb_name'].apply(format_passer_name)"
   ]
  },
  {
   "cell_type": "code",
   "execution_count": 8,
   "metadata": {},
   "outputs": [],
   "source": [
    "#Reorder Columns\n",
    "combined_schedule_df = combined_schedule_df[['game_id', 'season', 'game_type', 'week', 'roof', 'surface',\n",
    "                                             'posteam', 'defteam', 'home_team', 'away_team', 'implied_total', 'home_away']]"
   ]
  },
  {
   "cell_type": "markdown",
   "metadata": {},
   "source": [
    "## Importing PBP Training Data"
   ]
  },
  {
   "cell_type": "code",
   "execution_count": 9,
   "metadata": {},
   "outputs": [
    {
     "name": "stdout",
     "output_type": "stream",
     "text": [
      "2014 done.\n",
      "2015 done.\n",
      "2016 done.\n",
      "2017 done.\n",
      "2018 done.\n",
      "2019 done.\n",
      "2020 done.\n",
      "2021 done.\n",
      "2022 done.\n",
      "2023 done.\n",
      "2024 done.\n",
      "Downcasting floats.\n"
     ]
    }
   ],
   "source": [
    "#Select only the relevant columns\n",
    "columns = ['game_id', 'passer_player_name', 'posteam', 'defteam', 'season', 'week', 'home_team', 'away_team', 'play_type', 'air_yards', \n",
    "           'yards_after_catch', 'epa', 'complete_pass', 'incomplete_pass', 'interception', 'qb_hit', 'sack', 'pass_touchdown',\n",
    "           'passing_yards', 'cpoe', 'roof', 'surface']\n",
    "\n",
    "#Loading in the NFL pbp data\n",
    "data = nfl.import_pbp_data(range(2014,2024 + 1), columns, include_participation=False)\n",
    "\n",
    "#nfl-data-py still loads other columns, so we again need to set our data equal to only the columns we want\n",
    "data = data[columns]\n",
    "\n",
    "#Drop all rows that are not a pass\n",
    "data = data[data['play_type'] == 'pass']\n",
    "\n",
    "#Drop the play type column\n",
    "passer_data = data.drop(columns=['play_type'])"
   ]
  },
  {
   "cell_type": "markdown",
   "metadata": {},
   "source": [
    "## Passer DF Training Prep"
   ]
  },
  {
   "cell_type": "code",
   "execution_count": 10,
   "metadata": {},
   "outputs": [],
   "source": [
    "# passer_data.columns"
   ]
  },
  {
   "cell_type": "code",
   "execution_count": 11,
   "metadata": {},
   "outputs": [],
   "source": [
    "#Group the data together by passer, week, season and aggregate\n",
    "passer_df = passer_data.groupby(['game_id', 'posteam', 'week', 'season'], as_index=False).agg(\n",
    "    {\n",
    "     'defteam' : 'first',\n",
    "     'passer_player_name' : 'first',\n",
    "     'home_team' : 'first',\n",
    "     'away_team' : 'first',\n",
    "     'air_yards' : 'sum',\n",
    "     'yards_after_catch' : 'sum',\n",
    "     'epa' : 'sum',\n",
    "     'complete_pass' : 'sum',\n",
    "     'incomplete_pass' : 'sum',\n",
    "     'interception' : 'sum',\n",
    "     'qb_hit' : 'sum',\n",
    "     'sack' : 'sum',\n",
    "     'pass_touchdown' : 'sum',\n",
    "     'passing_yards' : 'sum',\n",
    "     'cpoe' : 'mean',\n",
    "     'roof' : 'first',\n",
    "     'surface' : 'first'\n",
    "     }\n",
    ")\n",
    "\n",
    "#Create a new column that is completion percentage\n",
    "passer_df['completion_percentage'] = passer_df['complete_pass'] / (passer_df['complete_pass'] + passer_df['incomplete_pass'])\n",
    "\n",
    "#Create a new column that is the number of pass attempts\n",
    "passer_df['pass_attempts'] = passer_df['complete_pass'] + passer_df['incomplete_pass']\n",
    "\n",
    "#Create a new column that equals 1 if the passer is the home team and 0 if the passer is the away team\n",
    "passer_df['home_flag'] = passer_df['home_team'] == passer_df['posteam']\n",
    "\n",
    "#Reorder the columns\n",
    "passer_df = passer_df[['home_team', 'away_team', 'complete_pass', 'incomplete_pass' ,'game_id', 'passer_player_name', 'posteam', 'defteam', 'season', 'week', 'passing_yards', 'home_flag', 'completion_percentage', 'pass_attempts',\n",
    "                       'air_yards',  'yards_after_catch', 'epa', 'interception', 'qb_hit', 'sack', 'pass_touchdown', \n",
    "                        'cpoe', 'roof', 'surface']]"
   ]
  },
  {
   "cell_type": "markdown",
   "metadata": {},
   "source": [
    "## Defense DF Training Prep"
   ]
  },
  {
   "cell_type": "code",
   "execution_count": 12,
   "metadata": {},
   "outputs": [],
   "source": [
    "#Select only the relevant columns\n",
    "defense_columns = ['defteam', 'season', 'week', 'home_team', 'away_team', 'play_type', 'air_yards',\n",
    "                   'yards_after_catch', 'epa', 'complete_pass', 'incomplete_pass', 'interception', 'qb_hit', 'sack', 'pass_touchdown',\n",
    "                   'passing_yards', 'cpoe', 'roof', 'surface']\n",
    "\n",
    "\n",
    "#nfl-data-py still loads other columns, so we again need to set our data equal to only the columns we want\n",
    "defense_data = data[defense_columns]\n",
    "\n",
    "#Drop the play type column\n",
    "defense_data = defense_data.drop(columns=['play_type'])\n",
    "\n",
    "#Group the data together by defense, week, and season; then aggregate\n",
    "defense_df = defense_data.groupby(['defteam', 'week', 'season'], as_index=False).agg(\n",
    "    {'home_team': 'first',\n",
    "     'away_team': 'first',\n",
    "     'air_yards': 'sum',\n",
    "     'yards_after_catch': 'sum',\n",
    "     'epa': 'sum',\n",
    "     'complete_pass': 'sum',\n",
    "     'incomplete_pass': 'sum',\n",
    "     'interception': 'sum',\n",
    "     'qb_hit': 'sum',\n",
    "     'sack': 'sum',\n",
    "     'pass_touchdown': 'sum',\n",
    "     'passing_yards': 'sum',\n",
    "     'cpoe': 'mean',\n",
    "     'roof': 'first',\n",
    "     'surface': 'first'\n",
    "     }\n",
    ")\n",
    "\n",
    "#Create a new column that is completion percentage\n",
    "defense_df['completion_percentage'] = defense_df['complete_pass'] / (defense_df['complete_pass'] + defense_df['incomplete_pass'])\n",
    "\n",
    "#Create a new column that is the number of pass attempts\n",
    "defense_df['pass_attempts'] = defense_df['complete_pass'] + defense_df['incomplete_pass']\n",
    "\n",
    "#Create a new column that equals 1 if the defense is the home team and 0 if the defense is the away team\n",
    "defense_df['home_flag'] = defense_df['home_team'] == defense_df['defteam']\n",
    "\n",
    "#Reorder the columns\n",
    "defense_df = defense_df[['home_team', 'away_team', 'complete_pass', 'incomplete_pass', 'defteam', 'season', 'week', 'home_flag', 'passing_yards', 'completion_percentage', 'pass_attempts',\n",
    "                       'air_yards',  'yards_after_catch', 'epa', 'interception', 'qb_hit', 'sack', 'pass_touchdown', \n",
    "                       'cpoe', 'roof', 'surface']]"
   ]
  },
  {
   "cell_type": "markdown",
   "metadata": {},
   "source": [
    "## Preprocessing, namely exponentially weighted moving averages for offensive and defensive stats to be used as features in train set"
   ]
  },
  {
   "cell_type": "code",
   "execution_count": 13,
   "metadata": {},
   "outputs": [],
   "source": [
    "def calculate_offensive_ewma(passer_df):\n",
    "    \"\"\"\n",
    "    Calculates EWMA for offensive columns using previous weeks' data, ensuring no leakage by excluding the current week.\n",
    "    Takes into account multiple seasons.\n",
    "    \"\"\"\n",
    "    #Sort by passer, season, and week\n",
    "    passer_df = passer_df.sort_values(by=['passer_player_name', 'season', 'week'])\n",
    "\n",
    "    #Calculate the exponentially weighted moving average for each offensive feature, excluding the current week\n",
    "    passer_df['completion_percentage_ewma'] = passer_df.groupby(['passer_player_name', 'season'])['completion_percentage']\\\n",
    "        .transform(lambda x: x.shift().ewm(min_periods=1, span=4).mean())\n",
    "\n",
    "    passer_df['pass_attempts_ewma'] = passer_df.groupby(['passer_player_name', 'season'])['pass_attempts']\\\n",
    "        .transform(lambda x: x.shift().ewm(min_periods=1, span=4).mean())\n",
    "\n",
    "    passer_df['air_yards_ewma'] = passer_df.groupby(['passer_player_name', 'season'])['air_yards']\\\n",
    "        .transform(lambda x: x.shift().ewm(min_periods=1, span=4).mean())\n",
    "\n",
    "    passer_df['yards_after_catch_ewma'] = passer_df.groupby(['passer_player_name', 'season'])['yards_after_catch']\\\n",
    "        .transform(lambda x: x.shift().ewm(min_periods=1, span=4).mean())\n",
    "\n",
    "    passer_df['epa_ewma'] = passer_df.groupby(['passer_player_name', 'season'])['epa']\\\n",
    "        .transform(lambda x: x.shift().ewm(min_periods=1, span=4).mean())\n",
    "\n",
    "    passer_df['interception_ewma'] = passer_df.groupby(['passer_player_name', 'season'])['interception']\\\n",
    "        .transform(lambda x: x.shift().ewm(min_periods=1, span=4).mean())\n",
    "\n",
    "    passer_df['qb_hit_ewma'] = passer_df.groupby(['passer_player_name', 'season'])['qb_hit']\\\n",
    "        .transform(lambda x: x.shift().ewm(min_periods=1, span=4).mean())\n",
    "\n",
    "    passer_df['sack_ewma'] = passer_df.groupby(['passer_player_name', 'season'])['sack']\\\n",
    "        .transform(lambda x: x.shift().ewm(min_periods=1, span=4).mean())\n",
    "\n",
    "    passer_df['pass_touchdown_ewma'] = passer_df.groupby(['passer_player_name', 'season'])['pass_touchdown']\\\n",
    "        .transform(lambda x: x.shift().ewm(min_periods=1, span=4).mean())\n",
    "\n",
    "    passer_df['passing_yards_ewma'] = passer_df.groupby(['passer_player_name', 'season'])['passing_yards']\\\n",
    "        .transform(lambda x: x.shift().ewm(min_periods=1, span=4).mean())\n",
    "\n",
    "    passer_df['cpoe_ewma'] = passer_df.groupby(['passer_player_name', 'season'])['cpoe']\\\n",
    "        .transform(lambda x: x.shift().ewm(min_periods=1, span=4).mean())\n",
    "\n",
    "    return passer_df"
   ]
  },
  {
   "cell_type": "code",
   "execution_count": 14,
   "metadata": {},
   "outputs": [],
   "source": [
    "def pass_cleaner(passer_df):\n",
    "    \"\"\"\n",
    "    Preps passer df for merging; drops unnecessary columns\n",
    "    \"\"\"\n",
    "    passer_df.drop(columns=['home_team', 'away_team', 'complete_pass', 'incomplete_pass', 'completion_percentage', 'air_yards', 'yards_after_catch', 'epa', \n",
    "                                    'interception', 'qb_hit', 'sack', 'pass_touchdown', 'cpoe', 'home_team', 'away_team', \n",
    "                                    'complete_pass', 'incomplete_pass', 'surface'], inplace=True)\n",
    "    \n",
    "    return passer_df"
   ]
  },
  {
   "cell_type": "code",
   "execution_count": 15,
   "metadata": {},
   "outputs": [],
   "source": [
    "passer_emwa = calculate_offensive_ewma(passer_df)"
   ]
  },
  {
   "cell_type": "code",
   "execution_count": 16,
   "metadata": {},
   "outputs": [],
   "source": [
    "passer_prepped = pass_cleaner(passer_emwa)"
   ]
  },
  {
   "cell_type": "code",
   "execution_count": 17,
   "metadata": {},
   "outputs": [],
   "source": [
    "def calculate_defensive_ewma(defense_df):\n",
    "    \"\"\"\n",
    "    Calculates EWMA for defensive columns using previous weeks' data (excluding the current week).\n",
    "    \"\"\"\n",
    "    #Sort by 'defteam', 'season', and 'week' in ascending order (to ensure time order)\n",
    "    defense_df = defense_df.sort_values(by=['defteam', 'season', 'week'])\n",
    "\n",
    "    #Ensure proper grouping by both defteam and season\n",
    "    defense_df['completion_percentage_ewma'] = defense_df.groupby(['defteam', 'season'])['completion_percentage']\\\n",
    "        .transform(lambda x: x.shift().ewm(min_periods=1, span=4).mean())\n",
    "    \n",
    "    defense_df['pass_attempts_ewma'] = defense_df.groupby(['defteam', 'season'])['pass_attempts']\\\n",
    "        .transform(lambda x: x.shift().ewm(min_periods=1, span=4).mean())\n",
    "\n",
    "    defense_df['air_yards_ewma'] = defense_df.groupby(['defteam', 'season'])['air_yards']\\\n",
    "        .transform(lambda x: x.shift().ewm(min_periods=1, span=4).mean())\n",
    "\n",
    "    defense_df['yards_after_catch_ewma'] = defense_df.groupby(['defteam', 'season'])['yards_after_catch']\\\n",
    "        .transform(lambda x: x.shift().ewm(min_periods=1, span=4).mean())\n",
    "\n",
    "    defense_df['epa_ewma'] = defense_df.groupby(['defteam', 'season'])['epa']\\\n",
    "        .transform(lambda x: x.shift().ewm(min_periods=1, span=4).mean())\n",
    "\n",
    "    defense_df['interception_ewma'] = defense_df.groupby(['defteam', 'season'])['interception']\\\n",
    "        .transform(lambda x: x.shift().ewm(min_periods=1, span=4).mean())\n",
    "\n",
    "    defense_df['qb_hit_ewma'] = defense_df.groupby(['defteam', 'season'])['qb_hit']\\\n",
    "        .transform(lambda x: x.shift().ewm(min_periods=1, span=4).mean())\n",
    "\n",
    "    defense_df['sack_ewma'] = defense_df.groupby(['defteam', 'season'])['sack']\\\n",
    "        .transform(lambda x: x.shift().ewm(min_periods=1, span=4).mean())\n",
    "\n",
    "    defense_df['pass_touchdown_ewma'] = defense_df.groupby(['defteam', 'season'])['pass_touchdown']\\\n",
    "        .transform(lambda x: x.shift().ewm(min_periods=1, span=4).mean())\n",
    "\n",
    "    defense_df['passing_yards_ewma'] = defense_df.groupby(['defteam', 'season'])['passing_yards']\\\n",
    "        .transform(lambda x: x.shift().ewm(min_periods=1, span=4).mean())\n",
    "\n",
    "    defense_df['cpoe_ewma'] = defense_df.groupby(['defteam', 'season'])['cpoe']\\\n",
    "        .transform(lambda x: x.shift().ewm(min_periods=1, span=4).mean())\n",
    "\n",
    "    return defense_df"
   ]
  },
  {
   "cell_type": "code",
   "execution_count": 18,
   "metadata": {},
   "outputs": [],
   "source": [
    "def def_cleaner(defense_df):\n",
    "    \"\"\"\n",
    "    Preps passer df for merging; drops unnecessary columns\n",
    "    \"\"\"\n",
    "    #Drop the non-ewma columns\n",
    "    defense_df.drop(columns=['passing_yards','completion_percentage',\n",
    "                            'air_yards', 'yards_after_catch', 'epa',     \n",
    "                            'interception', 'qb_hit', 'sack', 'pass_touchdown', 'pass_attempts', 'cpoe', 'complete_pass', 'incomplete_pass',\n",
    "                            'home_team', 'away_team', 'surface'\n",
    "                            ], inplace=True)\n",
    "    \n",
    "    return defense_df"
   ]
  },
  {
   "cell_type": "code",
   "execution_count": 19,
   "metadata": {},
   "outputs": [],
   "source": [
    "defense_ewma = calculate_defensive_ewma(defense_df)"
   ]
  },
  {
   "cell_type": "code",
   "execution_count": 20,
   "metadata": {},
   "outputs": [],
   "source": [
    "defense_prepped = def_cleaner(defense_ewma)"
   ]
  },
  {
   "cell_type": "code",
   "execution_count": 21,
   "metadata": {},
   "outputs": [],
   "source": [
    "#Merge the defense and passer dataframes together||\n",
    "full_with_ewma = passer_prepped.merge(defense_prepped, how='inner', on=['defteam', 'season', 'week', 'roof'], suffixes=('_passer', '_defense'))"
   ]
  },
  {
   "cell_type": "markdown",
   "metadata": {},
   "source": [
    "## Week 1 is NaN's (duh, we use past weeks for EWMA's) for MVP I'll just get rid but for future seasons/rookies I do need a strategy\n",
    "\n",
    "\n",
    "\n",
    "### WOAH JOHNNY HERE IS WHERE WE MUST FIND A WAY TO SOLVE NAN FILLING"
   ]
  },
  {
   "cell_type": "code",
   "execution_count": 22,
   "metadata": {},
   "outputs": [],
   "source": [
    "#Perform the merge based on game_id, season, week, and team\n",
    "filtered_with_ewma_it = pd.merge(full_with_ewma, combined_schedule_df[['game_id', 'season', 'week', 'posteam', 'implied_total']], \n",
    "                     on=['game_id', 'season', 'week', 'posteam'], \n",
    "                     how='inner')"
   ]
  },
  {
   "cell_type": "code",
   "execution_count": 23,
   "metadata": {},
   "outputs": [],
   "source": [
    "#Get these to get prepped for just inserting columns to be populated \n",
    "week1mustfill = filtered_with_ewma_it[(filtered_with_ewma_it['season'] == 2024) & (filtered_with_ewma_it['week'] == 1)]\n",
    "\n",
    "week1mustfill = week1mustfill.dropna(axis=1, how='all')\n",
    "\n",
    "newstartersmustfill = filtered_with_ewma_it[(filtered_with_ewma_it['season'] == 2024) & (filtered_with_ewma_it['completion_percentage_ewma_passer'].isna()) \n",
    "                                            & (filtered_with_ewma_it['week'] != 1)]\n",
    "\n",
    "newstartersmustfill = newstartersmustfill.dropna(axis=1, how='all')"
   ]
  },
  {
   "cell_type": "code",
   "execution_count": 24,
   "metadata": {},
   "outputs": [],
   "source": [
    "week1fillers = pd.read_csv('NFL_Week_1_Passing_Yard_Props.csv')\n",
    "week1fillers.head(1)\n",
    "\n",
    "week1fillers.rename(columns={'passing_yard_ou' : 'pass_yards_ou'}, inplace=True)\n",
    "week1fillers['game_type'] = 'REG'"
   ]
  },
  {
   "cell_type": "code",
   "execution_count": 25,
   "metadata": {},
   "outputs": [],
   "source": [
    "week1mustfill['home_team'] = week1mustfill.apply(lambda x: x['posteam'] if x['home_flag_passer'] else x['defteam'], axis=1)\n",
    "week1mustfill['away_team'] = week1mustfill.apply(lambda x: x['defteam'] if x['home_flag_passer'] else x['posteam'], axis=1)\n",
    "\n",
    "week1mustfill = week1mustfill[['game_id', 'season', 'week', 'implied_total', 'posteam', 'defteam', 'home_team', 'away_team', 'passer_player_name', 'passing_yards']]\n",
    "\n",
    "newstartersmustfill['home_team'] = newstartersmustfill.apply(lambda x: x['posteam'] if x['home_flag_passer'] else x['defteam'], axis=1)\n",
    "newstartersmustfill['away_team'] = newstartersmustfill.apply(lambda x: x['defteam'] if x['home_flag_passer'] else x['posteam'], axis=1)\n",
    "\n",
    "newstartersmustfill = newstartersmustfill[['game_id', 'season', 'week', 'implied_total', 'posteam', 'defteam', 'home_team', 'away_team', 'passer_player_name', 'passing_yards']]"
   ]
  },
  {
   "cell_type": "code",
   "execution_count": 26,
   "metadata": {},
   "outputs": [],
   "source": [
    "week1filled = week1mustfill.merge(week1fillers, on=['posteam', 'week', 'passer_player_name'], how='left')"
   ]
  },
  {
   "cell_type": "code",
   "execution_count": 27,
   "metadata": {},
   "outputs": [],
   "source": [
    "filtered_with_ewma_it = filtered_with_ewma_it.dropna()"
   ]
  },
  {
   "cell_type": "markdown",
   "metadata": {},
   "source": [
    "## Modeling"
   ]
  },
  {
   "cell_type": "code",
   "execution_count": 28,
   "metadata": {},
   "outputs": [],
   "source": [
    "#Define the target and features\n",
    "target = 'passing_yards'\n",
    "features = filtered_with_ewma_it.columns.drop(['pass_attempts', 'passer_player_name', 'passing_yards', 'posteam', 'defteam', 'season', 'week', 'game_id', 'implied_total'])\n",
    "\n",
    "#Define categorical and numeric columns\n",
    "categorical_columns = ['roof', 'home_flag_passer', 'home_flag_defense']\n",
    "numeric_columns = [col for col in features if col not in categorical_columns]\n",
    "\n",
    "#Split the data into training (up to 2023) and testing (2024)\n",
    "train_data = filtered_with_ewma_it[filtered_with_ewma_it['season'] <= 2023]\n",
    "test_data = filtered_with_ewma_it[filtered_with_ewma_it['season'] == 2024]\n",
    "\n",
    "#Separate features and target for both training and testing\n",
    "X_train = train_data[features]\n",
    "y_train = train_data[target]\n",
    "X_test = test_data[features]\n",
    "y_test = test_data[target]\n",
    "\n",
    "#Create a ColumnTransformer for preprocessing\n",
    "preprocessor = ColumnTransformer(\n",
    "    transformers=[\n",
    "        ('cat', OneHotEncoder(), categorical_columns),\n",
    "        ('num', StandardScaler(), numeric_columns)\n",
    "    ])\n",
    "\n",
    "#Apply the transformations to the training and test sets\n",
    "X_train_transformed = preprocessor.fit_transform(X_train)\n",
    "X_test_transformed = preprocessor.transform(X_test)"
   ]
  },
  {
   "cell_type": "code",
   "execution_count": 29,
   "metadata": {},
   "outputs": [
    {
     "name": "stdout",
     "output_type": "stream",
     "text": [
      "Basic RMSE on the 2024 season: 68.74641688962075\n",
      "RMSE on the 2024 season without the min and max true passing yard games: 67.47471235196821\n"
     ]
    }
   ],
   "source": [
    "#Initialize the basic XGBoost model\n",
    "xgb_model_basic = xgb.XGBRegressor(\n",
    "    n_estimators=142,  # Basic number of boosting rounds\n",
    "    learning_rate=0.01,  # Standard learning rate\n",
    "    max_depth=2,        # Typical depth for a basic model\n",
    "    reg_lambda= 10,      #something something regularization\n",
    "    random_state=31,    # For reproducibility\n",
    "    n_jobs= -1           # Use all CPU cores for faster training\n",
    ")\n",
    "\n",
    "#Train the model on the entire pre-2024 data\n",
    "xgb_model_basic.fit(X_train_transformed, y_train)\n",
    "\n",
    "#Make predictions on the 2024 season (X_test)\n",
    "y_pred = xgb_model_basic.predict(X_test_transformed)\n",
    "\n",
    "#Calculate RMSE for the 2024 season predictions\n",
    "rmse_basic = mean_squared_error(y_test, y_pred, squared=False)\n",
    "print(f\"Basic RMSE on the 2024 season: {rmse_basic}\")\n",
    "\n",
    "#Attach predictions back to the original test DataFrame\n",
    "test_data['predicted_passing_yards'] = y_pred\n",
    "\n",
    "#Remove the rows with the largest and smallest passing yards\n",
    "max_passing_yards = test_data['passing_yards'].max()\n",
    "min_passing_yards = test_data['passing_yards'].min()\n",
    "\n",
    "#Filter the test_data to exclude the rows with max and min passing yards\n",
    "filtered_test_data = test_data[(test_data['passing_yards'] != max_passing_yards) & (test_data['passing_yards'] != min_passing_yards)]\n",
    "\n",
    "#Calculate RMSE for the remaining data\n",
    "rmse_filtered = mean_squared_error(filtered_test_data['passing_yards'], filtered_test_data['predicted_passing_yards'], squared=False)\n",
    "print(f\"RMSE on the 2024 season without the min and max true passing yard games: {rmse_filtered}\")"
   ]
  },
  {
   "cell_type": "code",
   "execution_count": 30,
   "metadata": {},
   "outputs": [],
   "source": [
    "#Ensure test_data is just the 2024 season\n",
    "test_data = filtered_with_ewma_it[filtered_with_ewma_it['season'] == 2024]"
   ]
  },
  {
   "cell_type": "code",
   "execution_count": 31,
   "metadata": {},
   "outputs": [],
   "source": [
    "#Attach predictions back to the original test DataFrame\n",
    "test_data['predicted_passing_yards'] = y_pred"
   ]
  },
  {
   "cell_type": "code",
   "execution_count": 32,
   "metadata": {},
   "outputs": [],
   "source": [
    "#Calculate whether the model over-predicted or under-predicted to visualize trends in predictions across weeks\n",
    "test_data['pyoe'] = test_data['passing_yards'] - test_data['predicted_passing_yards']\n",
    "#get o/u's\n",
    "test_data['pass_yards_ou'] = test_data['predicted_passing_yards'].apply(lambda x: round(x * 2) / 2)\n",
    "#To be used in monte carlo simulator\n",
    "global_residual_std = test_data['pyoe'].std()"
   ]
  },
  {
   "cell_type": "code",
   "execution_count": 33,
   "metadata": {},
   "outputs": [],
   "source": [
    "average_negative = test_data[test_data['pyoe'] < 0]['pyoe'].mean()\n",
    "average_positive = test_data[test_data['pyoe'] > 0]['pyoe'].mean()"
   ]
  },
  {
   "cell_type": "markdown",
   "metadata": {},
   "source": [
    "## PROBLEM GETTING CLEAN PREDICTIONS SET UP. WORK ON THIS MERGE. ALSO STILL NEED WEEK 1/NEW STARTER WEEK PROBLEMS"
   ]
  },
  {
   "cell_type": "code",
   "execution_count": 34,
   "metadata": {},
   "outputs": [],
   "source": [
    "#for some reason there are 4 columns that break this, maybe whitespace or a hidden char? no idea man\n",
    "shared_columns = [\n",
    " 'game_id',\n",
    " 'season',\n",
    " 'roof',\n",
    " 'implied_total',\n",
    " 'posteam',\n",
    " 'defteam',\n",
    " 'week'\n",
    " ]"
   ]
  },
  {
   "cell_type": "code",
   "execution_count": 35,
   "metadata": {},
   "outputs": [],
   "source": [
    "# Perform the merge\n",
    "prep_data = pd.merge(test_data, combined_schedule_df, on=shared_columns, how='inner')"
   ]
  },
  {
   "cell_type": "markdown",
   "metadata": {},
   "source": [
    "# There is no more 'Current Week' the Super Bowl has ended"
   ]
  },
  {
   "cell_type": "code",
   "execution_count": 36,
   "metadata": {},
   "outputs": [],
   "source": [
    "clean_predictions = prep_data[['game_id', 'season', 'week', 'game_type', 'posteam', 'defteam',\n",
    "       'home_team', 'away_team', 'passer_player_name', 'passing_yards', 'predicted_passing_yards', 'pass_yards_ou',\n",
    "       'implied_total']]\n"
   ]
  },
  {
   "cell_type": "code",
   "execution_count": 37,
   "metadata": {},
   "outputs": [],
   "source": [
    "# Group by 'posteam' and aggregate 'pyoe' values into a list\n",
    "pyoe_list = prep_data.groupby('posteam')['pyoe'].apply(list).reset_index()\n",
    "\n",
    "# Rename the 'pyoe' column to 'pyoe_list' to reflect that it now contains lists of values\n",
    "pyoe_list.rename(columns={'pyoe': 'pyoe_list'}, inplace=True)\n",
    "\n",
    "# Sort by the length of the list or by other criteria if needed (e.g., by the number of games played)\n",
    "pyoe_list.sort_values(by='posteam', inplace=True)\n"
   ]
  },
  {
   "cell_type": "code",
   "execution_count": 38,
   "metadata": {},
   "outputs": [],
   "source": [
    "week1filled = pd.merge(pyoe_list, week1filled, on='posteam', how='left')\n",
    "\n",
    "newstartersmustfill = pd.merge(pyoe_list, newstartersmustfill, on='posteam', how='left')"
   ]
  },
  {
   "cell_type": "code",
   "execution_count": 39,
   "metadata": {},
   "outputs": [],
   "source": [
    "week1filled = week1filled[['game_id', 'game_type', 'season', 'week', 'implied_total', 'posteam', 'defteam', 'home_team', 'away_team', 'passer_player_name', \n",
    "                               'passing_yards', 'pass_yards_ou', 'pyoe_list']]\n",
    "\n",
    "newstartersmustfill = newstartersmustfill[['game_id', 'season', 'week', 'implied_total', 'posteam', 'defteam', 'home_team', 'away_team', 'passer_player_name', \n",
    "                               'passing_yards', 'pyoe_list']]"
   ]
  },
  {
   "cell_type": "code",
   "execution_count": 40,
   "metadata": {},
   "outputs": [],
   "source": [
    "clean_predictions = pd.merge(pyoe_list, clean_predictions, on='posteam', how='left')"
   ]
  },
  {
   "cell_type": "code",
   "execution_count": 41,
   "metadata": {},
   "outputs": [],
   "source": [
    "week1filled['predicted_passing_yards'] = np.floor(week1filled['pass_yards_ou'])"
   ]
  },
  {
   "cell_type": "code",
   "execution_count": 42,
   "metadata": {},
   "outputs": [],
   "source": [
    "week1filled = week1filled[['game_id', 'season', 'week', 'game_type', 'implied_total', 'posteam', 'defteam',\n",
    "       'home_team', 'away_team', 'passer_player_name', 'passing_yards', 'predicted_passing_yards', 'pass_yards_ou', 'pyoe_list']]"
   ]
  },
  {
   "cell_type": "code",
   "execution_count": 43,
   "metadata": {},
   "outputs": [],
   "source": [
    "clean_predictions = clean_predictions[['game_id', 'season', 'week', 'game_type', 'implied_total', 'posteam', 'defteam',\n",
    "       'home_team', 'away_team', 'passer_player_name', 'passing_yards', 'predicted_passing_yards', 'pass_yards_ou', 'pyoe_list']]"
   ]
  },
  {
   "cell_type": "code",
   "execution_count": 44,
   "metadata": {},
   "outputs": [],
   "source": [
    "# Concatenate the DataFrames\n",
    "clean_predictions = pd.concat([clean_predictions, week1filled], ignore_index=True)\n",
    "\n",
    "# Sort by a specific column (e.g., 'column_name')\n",
    "clean_predictions = clean_predictions.sort_values(by=['week', 'posteam'], ascending=[True, True])\n",
    "\n",
    "# Reset index if needed\n",
    "clean_predictions = clean_predictions.reset_index(drop=True)"
   ]
  },
  {
   "cell_type": "code",
   "execution_count": 45,
   "metadata": {},
   "outputs": [],
   "source": [
    "def monte_carlo_simulations_truncated_by_week(df, global_residual_std, residual_col='pyoe_list',\n",
    "                                               predicted_col='predicted_passing_yards', num_simulations=1000,\n",
    "                                               noise_scale=0.25, min_yards=50, max_yards=650):\n",
    "    \"\"\"\n",
    "    Monte Carlo simulation for each QB each week using a truncated normal distribution.\n",
    "    Stores results as {(week, qb_name): simulated_array}\n",
    "    \"\"\"\n",
    "    qb_week_simulations = {}\n",
    "\n",
    "    for idx, row in df.iterrows():\n",
    "        qb_name = row['passer_player_name']\n",
    "        week = row['week']  # Ensure your DataFrame has a 'week' column\n",
    "        predicted_mean = row[predicted_col]\n",
    "        mean_team_residual = row[residual_col]\n",
    "\n",
    "        # Truncation bounds\n",
    "        lower_bound = (min_yards - predicted_mean) / global_residual_std\n",
    "        upper_bound = (max_yards - predicted_mean) / global_residual_std\n",
    "\n",
    "        # Sample simulations\n",
    "        truncated_simulations = truncnorm.rvs(\n",
    "            lower_bound, upper_bound,\n",
    "            loc=predicted_mean,\n",
    "            scale=global_residual_std,\n",
    "            size=num_simulations\n",
    "        )\n",
    "\n",
    "        # Add noise\n",
    "        noise = np.random.normal(loc=0, scale=noise_scale, size=num_simulations)\n",
    "        simulations = truncated_simulations + noise\n",
    "\n",
    "        # Clip to min_yards\n",
    "        simulations = np.maximum(min_yards, simulations)\n",
    "\n",
    "        # Save by (week, QB) key\n",
    "        qb_week_simulations[(week, qb_name)] = simulations\n",
    "\n",
    "    return qb_week_simulations"
   ]
  },
  {
   "cell_type": "markdown",
   "metadata": {},
   "source": [
    "# Try and find a way to get QB Name. Can't get from combined schedule as it is not always correct. See if GPT can make a dictionary to map from"
   ]
  },
  {
   "cell_type": "code",
   "execution_count": 46,
   "metadata": {},
   "outputs": [],
   "source": [
    "qb_simulations = monte_carlo_simulations_truncated_by_week(clean_predictions, global_residual_std)"
   ]
  },
  {
   "cell_type": "code",
   "execution_count": 47,
   "metadata": {},
   "outputs": [],
   "source": [
    "def simulations_dict_to_df(sim_dict):\n",
    "    \"\"\"\n",
    "    Converts {(week, qb_name): np.array([...])} dictionary to a flat DataFrame\n",
    "    where each row is one QB for one week, with simulations as a list.\n",
    "    \"\"\"\n",
    "    records = []\n",
    "\n",
    "    for (week, qb_name), sims in sim_dict.items():\n",
    "        records.append({\n",
    "            'week': week,\n",
    "            'qb_name': qb_name,\n",
    "            'simulations': sims.tolist()  # convert NumPy array to plain list\n",
    "        })\n",
    "\n",
    "    return pd.DataFrame(records)"
   ]
  },
  {
   "cell_type": "code",
   "execution_count": 48,
   "metadata": {},
   "outputs": [],
   "source": [
    "simulations_df = simulations_dict_to_df(qb_simulations)"
   ]
  },
  {
   "cell_type": "code",
   "execution_count": 49,
   "metadata": {},
   "outputs": [],
   "source": [
    "def merge_simulations_with_predictions(sim_df, predictions_df):\n",
    "    \"\"\"\n",
    "    Merges simulation DataFrame with the predictions DataFrame.\n",
    "    Assumes predictions_df has 'passer_player_name' and 'week' columns.\n",
    "    \"\"\"\n",
    "    # Rename for consistent keying\n",
    "    predictions_df = predictions_df.rename(columns={'passer_player_name': 'qb_name'})\n",
    "\n",
    "    # Merge on week and qb_name\n",
    "    merged_df = pd.merge(sim_df, predictions_df, on=['week', 'qb_name'], how='left')\n",
    "\n",
    "    return merged_df"
   ]
  },
  {
   "cell_type": "code",
   "execution_count": 50,
   "metadata": {},
   "outputs": [],
   "source": [
    "polished_sims = merge_simulations_with_predictions(simulations_df, clean_predictions)"
   ]
  },
  {
   "cell_type": "code",
   "execution_count": 51,
   "metadata": {},
   "outputs": [],
   "source": [
    "# Create the composite key\n",
    "polished_sims['uniq_key'] = polished_sims['game_id'] + \"_\" + polished_sims['posteam']"
   ]
  },
  {
   "cell_type": "code",
   "execution_count": 52,
   "metadata": {},
   "outputs": [],
   "source": [
    "column_order = ['uniq_key', 'game_id', 'season', 'game_type', 'week', 'qb_name', 'posteam', 'defteam', 'home_team', 'away_team', \n",
    "        'implied_total', 'passing_yards', 'predicted_passing_yards', 'pass_yards_ou', 'pyoe_list', 'simulations']"
   ]
  },
  {
   "cell_type": "code",
   "execution_count": 53,
   "metadata": {},
   "outputs": [],
   "source": [
    "polished_sims = polished_sims[column_order]"
   ]
  },
  {
   "cell_type": "code",
   "execution_count": 54,
   "metadata": {},
   "outputs": [
    {
     "name": "stdout",
     "output_type": "stream",
     "text": [
      "New database and tables created.\n"
     ]
    }
   ],
   "source": [
    "import sqlite3\n",
    "import json\n",
    "\n",
    "# Create or connect to the new database\n",
    "conn = sqlite3.connect(\"midpoint_madness_rolling.db\", check_same_thread=False)\n",
    "cursor = conn.cursor()\n",
    "\n",
    "# Drop existing tables if needed\n",
    "cursor.execute(\"DROP TABLE IF EXISTS predictions\")\n",
    "cursor.execute(\"DROP TABLE IF EXISTS player_games\")\n",
    "\n",
    "# Table 1: Predictions (from polished_sims)\n",
    "cursor.execute(\"\"\"\n",
    "CREATE TABLE predictions (\n",
    "    uniq_key TEXT PRIMARY KEY,\n",
    "    game_id TEXT,\n",
    "    season INTEGER,\n",
    "    game_type TEXT,\n",
    "    week INTEGER,\n",
    "    qb_name TEXT,\n",
    "    posteam TEXT,\n",
    "    defteam TEXT,\n",
    "    home_team TEXT,\n",
    "    away_team TEXT,\n",
    "    implied_total REAL,\n",
    "    passing_yards REAL,\n",
    "    predicted_passing_yards REAL,\n",
    "    pass_yards_ou REAL,\n",
    "    pyoe_list TEXT,\n",
    "    simulations TEXT\n",
    ")\n",
    "\"\"\")\n",
    "\n",
    "# Table 2: Player game state\n",
    "cursor.execute(\"\"\"\n",
    "CREATE TABLE player_games (\n",
    "    game_id TEXT PRIMARY KEY,\n",
    "    username TEXT NOT NULL,\n",
    "    current_week INTEGER,\n",
    "    score INTEGER,\n",
    "    lives INTEGER,\n",
    "    history_json TEXT\n",
    ")\n",
    "\"\"\")\n",
    "\n",
    "conn.commit()\n",
    "print(\"New database and tables created.\")"
   ]
  },
  {
   "cell_type": "code",
   "execution_count": 55,
   "metadata": {},
   "outputs": [
    {
     "name": "stdout",
     "output_type": "stream",
     "text": [
      "✅ polished_sims written to 'predictions' table with 542 rows.\n"
     ]
    }
   ],
   "source": [
    "# Make a clean copy of your DataFrame\n",
    "df_to_save = polished_sims.copy()\n",
    "\n",
    "# Add the unique key\n",
    "df_to_save['uniq_key'] = df_to_save['game_id'] + \"_\" + df_to_save['posteam']\n",
    "\n",
    "# Convert list-type columns to JSON strings\n",
    "df_to_save['pyoe_list'] = df_to_save['pyoe_list'].apply(json.dumps)\n",
    "df_to_save['simulations'] = df_to_save['simulations'].apply(json.dumps)\n",
    "\n",
    "# Write into the new predictions table\n",
    "df_to_save.to_sql(\"predictions\", conn, if_exists=\"append\", index=False)\n",
    "\n",
    "# Optional: check success\n",
    "print(\"✅ polished_sims written to 'predictions' table with\", len(df_to_save), \"rows.\")\n",
    "\n",
    "# Close connection\n",
    "conn.close()"
   ]
  },
  {
   "cell_type": "code",
   "execution_count": 56,
   "metadata": {},
   "outputs": [],
   "source": [
    "# Connect to your database\n",
    "conn = sqlite3.connect(\"midpoint_madness_rolling.db\")\n",
    "\n",
    "# Load the predictions table\n",
    "df = pd.read_sql(\"SELECT * FROM predictions\", conn)\n",
    "\n",
    "# Convert stringified JSON columns back to lists\n",
    "df['simulations'] = df['simulations'].apply(json.loads)\n",
    "df['pyoe_list'] = df['pyoe_list'].apply(json.loads)\n"
   ]
  },
  {
   "cell_type": "code",
   "execution_count": 57,
   "metadata": {},
   "outputs": [
    {
     "name": "stdout",
     "output_type": "stream",
     "text": [
      "Available weeks: [1, 2, 3, 4, 5, 6, 7, 8, 9, 10, 11, 12, 13, 14, 15, 16, 17, 18, 19, 20, 21, 22]\n",
      "Number of rows in Week 1: 32\n",
      "QBs in Week 1: ['K.Murray' 'K.Cousins' 'L.Jackson' 'J.Allen' 'B.Young' 'C.Williams'\n",
      " 'J.Burrow' 'D.Watson' 'D.Prescott' 'B.Nix' 'J.Goff' 'J.Love' 'C.Stroud'\n",
      " 'A.Richardson' 'T.Lawrence' 'P.Mahomes' 'M.Stafford' 'J.Herbert'\n",
      " 'G.Minshew' 'T.Tagovailoa' 'S.Darnold' 'J.Brissett' 'D.Carr' 'D.Jones'\n",
      " 'A.Rodgers' 'J.Hurts' 'J.Fields' 'G.Smith' 'B.Purdy' 'B.Mayfield'\n",
      " 'W.Levis' 'J.Daniels']\n"
     ]
    }
   ],
   "source": [
    "# Check which weeks exist\n",
    "print(\"Available weeks:\", sorted(df['week'].unique()))\n",
    "\n",
    "# Filter for Week 1\n",
    "week1_df = df[df['week'] == 1]\n",
    "print(f\"Number of rows in Week 1: {len(week1_df)}\")\n",
    "print(\"QBs in Week 1:\", week1_df['qb_name'].unique())"
   ]
  },
  {
   "cell_type": "code",
   "execution_count": 73,
   "metadata": {},
   "outputs": [],
   "source": [
    "conn.close()"
   ]
  },
  {
   "cell_type": "code",
   "execution_count": 64,
   "metadata": {},
   "outputs": [],
   "source": [
    "def implied_odds_to_american(implied_prob):\n",
    "    \"\"\"\n",
    "    Convert implied probability to American odds format.\n",
    "    :param implied_prob: Implied probability (between 0 and 1)\n",
    "    :return: American odds (with + for positive odds)\n",
    "    \"\"\"\n",
    "    if implied_prob == 0:\n",
    "        return 'N/A'\n",
    "    if implied_prob >= 0.5:\n",
    "        american_odds = -100 / implied_prob\n",
    "    else:\n",
    "        american_odds = (1 / implied_prob - 1) * 100\n",
    "    \n",
    "    # If positive odds, add the \"+\" sign in front\n",
    "    if american_odds > 0:\n",
    "        return f\"+{round(american_odds)}\"\n",
    "    else:\n",
    "        return round(american_odds)"
   ]
  },
  {
   "cell_type": "code",
   "execution_count": 55,
   "metadata": {},
   "outputs": [],
   "source": [
    "def midpoint_madness_round(main_qb, week, sim_df, over_qbs=[], under_qbs=[]):\n",
    "    \"\"\"\n",
    "    Simulates a round of Midpoint Madness for one week in survival mode.\n",
    "    \"\"\"\n",
    "    results = []\n",
    "    correct = 0\n",
    "    incorrect = 0\n",
    "\n",
    "    week_df = sim_df[sim_df['week'] == week]\n",
    "    main_row = week_df[week_df['qb_name'] == main_qb]\n",
    "    if main_row.empty:\n",
    "        raise ValueError(f\"No simulation data found for QB '{main_qb}' in week {week}\")\n",
    "    main_sim = np.array(main_row.iloc[0]['simulations'])\n",
    "\n",
    "    # Over picks\n",
    "    for over_qb in over_qbs:\n",
    "        comp_row = week_df[week_df['qb_name'] == over_qb]\n",
    "        if comp_row.empty:\n",
    "            continue\n",
    "        comp_sim = np.array(comp_row.iloc[0]['simulations'])\n",
    "        prob = np.mean(main_sim > comp_sim)\n",
    "        correct_guess = prob > 0.5\n",
    "        results.append({\n",
    "            'comparison': f\"{main_qb} > {over_qb}\",\n",
    "            'probability': prob,\n",
    "            'american_odds': implied_odds_to_american(prob),\n",
    "            'result': 'correct' if correct_guess else 'incorrect'\n",
    "        })\n",
    "        correct += int(correct_guess)\n",
    "        incorrect += int(not correct_guess)\n",
    "\n",
    "    # Under picks\n",
    "    for under_qb in under_qbs:\n",
    "        comp_row = week_df[week_df['qb_name'] == under_qb]\n",
    "        if comp_row.empty:\n",
    "            continue\n",
    "        comp_sim = np.array(comp_row.iloc[0]['simulations'])\n",
    "        prob = np.mean(main_sim < comp_sim)\n",
    "        correct_guess = prob > 0.5\n",
    "        results.append({\n",
    "            'comparison': f\"{main_qb} < {under_qb}\",\n",
    "            'probability': prob,\n",
    "            'american_odds': implied_odds_to_american(prob),\n",
    "            'result': 'correct' if correct_guess else 'incorrect'\n",
    "        })\n",
    "        correct += int(correct_guess)\n",
    "        incorrect += int(not correct_guess)\n",
    "\n",
    "    return {\n",
    "        'correct': correct,\n",
    "        'incorrect': incorrect,\n",
    "        'lives_lost': incorrect,\n",
    "        'points_earned': correct,\n",
    "        'results': results\n",
    "    }"
   ]
  },
  {
   "cell_type": "code",
   "execution_count": 56,
   "metadata": {},
   "outputs": [],
   "source": [
    "def play_midpoint_madness_game(sim_df, player_qb_choices_by_week, picks_by_week, final_week=22):\n",
    "    \"\"\"\n",
    "    Full Midpoint Madness Survival Mode Game.\n",
    "    Tracks lives, score, and round-by-round history from Week 1–22.\n",
    "    \"\"\"\n",
    "    lives = 3\n",
    "    score = 0\n",
    "    history = []\n",
    "\n",
    "    for week in range(1, final_week + 1):\n",
    "        if lives <= 0:\n",
    "            break  # Player is out\n",
    "\n",
    "        print(f\"\\n🗓️ Week {week}\")\n",
    "        main_qb = player_qb_choices_by_week.get(week)\n",
    "        picks = picks_by_week.get(week, {})\n",
    "        over_qbs = picks.get('over_qbs', [])\n",
    "        under_qbs = picks.get('under_qbs', [])\n",
    "\n",
    "        if not main_qb:\n",
    "            print(f\"No QB picked for week {week} — skipping\")\n",
    "            continue\n",
    "\n",
    "        try:\n",
    "            result = midpoint_madness_round(main_qb, week, sim_df, over_qbs, under_qbs)\n",
    "        except ValueError as e:\n",
    "            print(f\"⚠️ {e}\")\n",
    "            continue\n",
    "\n",
    "        score += result['points_earned']\n",
    "        lives -= result['lives_lost']\n",
    "\n",
    "        for r in result['results']:\n",
    "            print(f\"{r['comparison']}: Prob = {r['probability']:.2f}, \"\n",
    "                  f\"Odds = {r['american_odds']}, Result = {r['result']}\")\n",
    "\n",
    "        print(f\"✅ Points this week: {result['points_earned']} | ❌ Lives lost: {result['lives_lost']}\")\n",
    "        print(f\"❤️ Lives remaining: {lives} | 🎯 Total Score: {score}\")\n",
    "\n",
    "        history.append({\n",
    "            'week': week,\n",
    "            'main_qb': main_qb,\n",
    "            'picks': picks,\n",
    "            'result': result,\n",
    "            'score': score,\n",
    "            'lives': lives\n",
    "        })\n",
    "\n",
    "    status = 'completed' if lives > 0 else 'eliminated'\n",
    "    return {\n",
    "        'status': status,\n",
    "        'final_score': score,\n",
    "        'final_week': week,\n",
    "        'lives_remaining': lives,\n",
    "        'history': history\n",
    "    }"
   ]
  },
  {
   "cell_type": "code",
   "execution_count": 57,
   "metadata": {},
   "outputs": [
    {
     "name": "stdout",
     "output_type": "stream",
     "text": [
      "🎯 QB: J.Allen | Week: 1\n",
      "J.Allen > B.Young: Prob = 0.66, Odds = -152, Result = correct\n",
      "J.Allen < L.Jackson: Prob = 0.45, Odds = +121, Result = incorrect\n",
      "✅ Correct: 1, ❌ Incorrect: 1\n"
     ]
    }
   ],
   "source": [
    "# Example dummy picks for Week 1\n",
    "test_qb = 'J.Allen'\n",
    "test_week = 1\n",
    "\n",
    "over_qbs = ['B.Young']\n",
    "under_qbs = ['L.Jackson']\n",
    "\n",
    "# Run one round using polished_sims\n",
    "result = midpoint_madness_round(\n",
    "    main_qb=test_qb,\n",
    "    week=test_week,\n",
    "    sim_df=polished_sims,\n",
    "    over_qbs=over_qbs,\n",
    "    under_qbs=under_qbs\n",
    ")\n",
    "\n",
    "# Display round summary\n",
    "print(f\"🎯 QB: {test_qb} | Week: {test_week}\")\n",
    "for r in result['results']:\n",
    "    print(f\"{r['comparison']}: Prob = {r['probability']:.2f}, Odds = {r['american_odds']}, Result = {r['result']}\")\n",
    "\n",
    "print(f\"✅ Correct: {result['correct']}, ❌ Incorrect: {result['incorrect']}\")"
   ]
  },
  {
   "cell_type": "code",
   "execution_count": null,
   "metadata": {},
   "outputs": [
    {
     "name": "stdout",
     "output_type": "stream",
     "text": [
      "🎮 Welcome to Midpoint Madness Survival Mode!\n",
      "You'll try to survive from Week 1 through Week 22 with 3 lives.\n",
      "\n",
      "\n",
      "🗓️ Week 1 — Lives: 3 | Score: 0\n",
      "\n",
      "Available QBs: K.Murray, K.Cousins, L.Jackson, J.Allen, B.Young, C.Williams, J.Burrow, D.Watson, D.Prescott, B.Nix, J.Goff, J.Love, C.Stroud, A.Richardson, T.Lawrence, P.Mahomes, M.Stafford, J.Herbert, G.Minshew, T.Tagovailoa, S.Darnold, J.Brissett, D.Carr, D.Jones, A.Rodgers, J.Hurts, J.Fields, G.Smith, B.Purdy, B.Mayfield, W.Levis, J.Daniels\n",
      "P.Mahomes > L.Jackson: Prob = 0.61, Odds = -164, Result = correct\n",
      "P.Mahomes < A.Rodgers: Prob = 0.37, Odds = +170, Result = incorrect\n",
      "✅ Correct: 1 | ❌ Incorrect: 1\n",
      "🧠 Week Score: 1 | ❤️ Lives lost: 1\n",
      "\n",
      "🗓️ Week 2 — Lives: 2 | Score: 1\n",
      "\n",
      "Available QBs: K.Murray, K.Cousins, L.Jackson, J.Allen, B.Young, C.Williams, J.Burrow, D.Watson, D.Prescott, B.Nix, J.Goff, C.Stroud, A.Richardson, T.Lawrence, P.Mahomes, M.Stafford, J.Herbert, G.Minshew, T.Tagovailoa, S.Darnold, J.Brissett, D.Carr, D.Jones, A.Rodgers, J.Hurts, J.Fields, G.Smith, B.Purdy, B.Mayfield, W.Levis, J.Daniels\n",
      "⚠️ No simulation data found for QB '' in week 2 — Try again.\n",
      "\n",
      "🗓️ Week 2 — Lives: 2 | Score: 1\n",
      "\n",
      "Available QBs: K.Murray, K.Cousins, L.Jackson, J.Allen, B.Young, C.Williams, J.Burrow, D.Watson, D.Prescott, B.Nix, J.Goff, C.Stroud, A.Richardson, T.Lawrence, P.Mahomes, M.Stafford, J.Herbert, G.Minshew, T.Tagovailoa, S.Darnold, J.Brissett, D.Carr, D.Jones, A.Rodgers, J.Hurts, J.Fields, G.Smith, B.Purdy, B.Mayfield, W.Levis, J.Daniels\n",
      "⚠️ No simulation data found for QB '' in week 2 — Try again.\n",
      "\n",
      "🗓️ Week 2 — Lives: 2 | Score: 1\n",
      "\n",
      "Available QBs: K.Murray, K.Cousins, L.Jackson, J.Allen, B.Young, C.Williams, J.Burrow, D.Watson, D.Prescott, B.Nix, J.Goff, C.Stroud, A.Richardson, T.Lawrence, P.Mahomes, M.Stafford, J.Herbert, G.Minshew, T.Tagovailoa, S.Darnold, J.Brissett, D.Carr, D.Jones, A.Rodgers, J.Hurts, J.Fields, G.Smith, B.Purdy, B.Mayfield, W.Levis, J.Daniels\n",
      "⚠️ No simulation data found for QB '' in week 2 — Try again.\n",
      "\n",
      "🗓️ Week 2 — Lives: 2 | Score: 1\n",
      "\n",
      "Available QBs: K.Murray, K.Cousins, L.Jackson, J.Allen, B.Young, C.Williams, J.Burrow, D.Watson, D.Prescott, B.Nix, J.Goff, C.Stroud, A.Richardson, T.Lawrence, P.Mahomes, M.Stafford, J.Herbert, G.Minshew, T.Tagovailoa, S.Darnold, J.Brissett, D.Carr, D.Jones, A.Rodgers, J.Hurts, J.Fields, G.Smith, B.Purdy, B.Mayfield, W.Levis, J.Daniels\n",
      "⚠️ No simulation data found for QB '' in week 2 — Try again.\n",
      "\n",
      "🗓️ Week 2 — Lives: 2 | Score: 1\n",
      "\n",
      "Available QBs: K.Murray, K.Cousins, L.Jackson, J.Allen, B.Young, C.Williams, J.Burrow, D.Watson, D.Prescott, B.Nix, J.Goff, C.Stroud, A.Richardson, T.Lawrence, P.Mahomes, M.Stafford, J.Herbert, G.Minshew, T.Tagovailoa, S.Darnold, J.Brissett, D.Carr, D.Jones, A.Rodgers, J.Hurts, J.Fields, G.Smith, B.Purdy, B.Mayfield, W.Levis, J.Daniels\n",
      "⚠️ No simulation data found for QB '' in week 2 — Try again.\n",
      "\n",
      "🗓️ Week 2 — Lives: 2 | Score: 1\n",
      "\n",
      "Available QBs: K.Murray, K.Cousins, L.Jackson, J.Allen, B.Young, C.Williams, J.Burrow, D.Watson, D.Prescott, B.Nix, J.Goff, C.Stroud, A.Richardson, T.Lawrence, P.Mahomes, M.Stafford, J.Herbert, G.Minshew, T.Tagovailoa, S.Darnold, J.Brissett, D.Carr, D.Jones, A.Rodgers, J.Hurts, J.Fields, G.Smith, B.Purdy, B.Mayfield, W.Levis, J.Daniels\n",
      "⚠️ No simulation data found for QB '' in week 2 — Try again.\n",
      "\n",
      "🗓️ Week 2 — Lives: 2 | Score: 1\n",
      "\n",
      "Available QBs: K.Murray, K.Cousins, L.Jackson, J.Allen, B.Young, C.Williams, J.Burrow, D.Watson, D.Prescott, B.Nix, J.Goff, C.Stroud, A.Richardson, T.Lawrence, P.Mahomes, M.Stafford, J.Herbert, G.Minshew, T.Tagovailoa, S.Darnold, J.Brissett, D.Carr, D.Jones, A.Rodgers, J.Hurts, J.Fields, G.Smith, B.Purdy, B.Mayfield, W.Levis, J.Daniels\n",
      "⚠️ No simulation data found for QB '' in week 2 — Try again.\n",
      "\n",
      "🗓️ Week 2 — Lives: 2 | Score: 1\n",
      "\n",
      "Available QBs: K.Murray, K.Cousins, L.Jackson, J.Allen, B.Young, C.Williams, J.Burrow, D.Watson, D.Prescott, B.Nix, J.Goff, C.Stroud, A.Richardson, T.Lawrence, P.Mahomes, M.Stafford, J.Herbert, G.Minshew, T.Tagovailoa, S.Darnold, J.Brissett, D.Carr, D.Jones, A.Rodgers, J.Hurts, J.Fields, G.Smith, B.Purdy, B.Mayfield, W.Levis, J.Daniels\n",
      "⚠️ No simulation data found for QB '' in week 2 — Try again.\n",
      "\n",
      "🗓️ Week 2 — Lives: 2 | Score: 1\n",
      "\n",
      "Available QBs: K.Murray, K.Cousins, L.Jackson, J.Allen, B.Young, C.Williams, J.Burrow, D.Watson, D.Prescott, B.Nix, J.Goff, C.Stroud, A.Richardson, T.Lawrence, P.Mahomes, M.Stafford, J.Herbert, G.Minshew, T.Tagovailoa, S.Darnold, J.Brissett, D.Carr, D.Jones, A.Rodgers, J.Hurts, J.Fields, G.Smith, B.Purdy, B.Mayfield, W.Levis, J.Daniels\n",
      "⚠️ No simulation data found for QB '' in week 2 — Try again.\n",
      "\n",
      "🗓️ Week 2 — Lives: 2 | Score: 1\n",
      "\n",
      "Available QBs: K.Murray, K.Cousins, L.Jackson, J.Allen, B.Young, C.Williams, J.Burrow, D.Watson, D.Prescott, B.Nix, J.Goff, C.Stroud, A.Richardson, T.Lawrence, P.Mahomes, M.Stafford, J.Herbert, G.Minshew, T.Tagovailoa, S.Darnold, J.Brissett, D.Carr, D.Jones, A.Rodgers, J.Hurts, J.Fields, G.Smith, B.Purdy, B.Mayfield, W.Levis, J.Daniels\n",
      "⚠️ No simulation data found for QB '' in week 2 — Try again.\n",
      "\n",
      "🗓️ Week 2 — Lives: 2 | Score: 1\n",
      "\n",
      "Available QBs: K.Murray, K.Cousins, L.Jackson, J.Allen, B.Young, C.Williams, J.Burrow, D.Watson, D.Prescott, B.Nix, J.Goff, C.Stroud, A.Richardson, T.Lawrence, P.Mahomes, M.Stafford, J.Herbert, G.Minshew, T.Tagovailoa, S.Darnold, J.Brissett, D.Carr, D.Jones, A.Rodgers, J.Hurts, J.Fields, G.Smith, B.Purdy, B.Mayfield, W.Levis, J.Daniels\n"
     ]
    }
   ],
   "source": [
    "# Initialize game state\n",
    "lives = 3\n",
    "score = 0\n",
    "week = 1\n",
    "max_week = 22  # Through the Super Bowl\n",
    "game_history = []\n",
    "\n",
    "print(\"🎮 Welcome to Midpoint Madness Survival Mode!\")\n",
    "print(\"You'll try to survive from Week 1 through Week 22 with 3 lives.\\n\")\n",
    "\n",
    "while lives > 0 and week <= max_week:\n",
    "    print(f\"\\n🗓️ Week {week} — Lives: {lives} | Score: {score}\")\n",
    "    \n",
    "    available_qbs = polished_sims[polished_sims['week'] == week]['qb_name'].tolist()\n",
    "    print(f\"\\nAvailable QBs: {', '.join(available_qbs)}\")\n",
    "\n",
    "    # Prompt for input (simulate Streamlit dropdowns)\n",
    "    main_qb = input(f\"Pick your main QB for Week {week}: \").strip()\n",
    "    over_qbs = input(\"QBs you think your QB will OUT-THROW (comma-separated): \").strip().split(\",\")\n",
    "    under_qbs = input(\"QBs you think your QB will UNDER-THROW (comma-separated): \").strip().split(\",\")\n",
    "    \n",
    "    # Clean up input\n",
    "    over_qbs = [qb.strip() for qb in over_qbs if qb.strip()]\n",
    "    under_qbs = [qb.strip() for qb in under_qbs if qb.strip()]\n",
    "    \n",
    "    try:\n",
    "        result = midpoint_madness_round(main_qb, week, polished_sims, over_qbs, under_qbs)\n",
    "    except ValueError as e:\n",
    "        print(f\"⚠️ {e} — Try again.\")\n",
    "        continue\n",
    "    \n",
    "    # Show round results\n",
    "    for r in result['results']:\n",
    "        print(f\"{r['comparison']}: Prob = {r['probability']:.2f}, Odds = {r['american_odds']}, Result = {r['result']}\")\n",
    "    \n",
    "    print(f\"✅ Correct: {result['correct']} | ❌ Incorrect: {result['incorrect']}\")\n",
    "    print(f\"🧠 Week Score: {result['points_earned']} | ❤️ Lives lost: {result['lives_lost']}\")\n",
    "    \n",
    "    # Update game state\n",
    "    score += result['points_earned']\n",
    "    lives -= result['lives_lost']\n",
    "    \n",
    "    game_history.append({\n",
    "        'week': week,\n",
    "        'main_qb': main_qb,\n",
    "        'over_qbs': over_qbs,\n",
    "        'under_qbs': under_qbs,\n",
    "        'result': result,\n",
    "        'score': score,\n",
    "        'lives': lives\n",
    "    })\n",
    "    \n",
    "    week += 1\n",
    "\n",
    "# End of game summary\n",
    "print(\"\\n🏁 GAME OVER\")\n",
    "print(f\"Final Score: {score}\")\n",
    "print(f\"Reached Week: {week - 1}\")\n",
    "print(f\"Lives Remaining: {lives}\")"
   ]
  },
  {
   "cell_type": "markdown",
   "metadata": {},
   "source": [
    "## Charts for model stuff if I need to look. It's a pretty shit model. It does ok I guess but not a lot of variance in projection lmao"
   ]
  },
  {
   "cell_type": "code",
   "execution_count": 65,
   "metadata": {},
   "outputs": [],
   "source": [
    "#sanity checker\n",
    "\n",
    "min_max_results = {}\n",
    "for qb_name, simulations in qb_simulations.items():\n",
    "    min_max_results[qb_name] = {\n",
    "        'min_passing_yards': np.min(simulations),\n",
    "        'max_passing_yards': np.max(simulations)\n",
    "    }\n",
    "\n",
    "# Convert the min and max passing yards results into a DataFrame\n",
    "min_max_df = pd.DataFrame.from_dict(min_max_results, orient='index').reset_index()\n",
    "min_max_df.rename(columns={'index': 'qb_name'}, inplace=True)\n",
    "\n",
    "# min_max_df.sort_values(by='min_passing_yards')"
   ]
  },
  {
   "cell_type": "code",
   "execution_count": 66,
   "metadata": {},
   "outputs": [
    {
     "data": {
      "image/png": "[encoded data removed]",
      "text/plain": [
       "<Figure size 1000x600 with 1 Axes>"
      ]
     },
     "metadata": {},
     "output_type": "display_data"
    }
   ],
   "source": [
    "# Plotting the histogram of PYOE\n",
    "plt.figure(figsize=(10, 6))\n",
    "plt.hist(test_data['pyoe'], bins=25, edgecolor='black', alpha=0.7)\n",
    "plt.title('Distribution of Pass Yards Over Expected (PYOE)', fontsize=16)\n",
    "plt.xlabel('PYOE (Predicted Passing Yards - Actual Passing Yards)', fontsize=12)\n",
    "plt.ylabel('Frequency', fontsize=12)\n",
    "plt.grid(True, alpha=0.5)\n",
    "\n",
    "# Show the plot\n",
    "plt.show()"
   ]
  },
  {
   "cell_type": "code",
   "execution_count": 67,
   "metadata": {},
   "outputs": [
    {
     "data": {
      "image/png": "[encoded data removed]",
      "text/plain": [
       "<Figure size 1000x600 with 1 Axes>"
      ]
     },
     "metadata": {},
     "output_type": "display_data"
    }
   ],
   "source": [
    "# Plotting the histogram of PYOE\n",
    "plt.figure(figsize=(10, 6))\n",
    "plt.hist(test_data['predicted_passing_yards'], bins=30, edgecolor='black', alpha=0.7)\n",
    "plt.title('Distribution of Predicted Pass Yards', fontsize=16)\n",
    "plt.xlabel('Passing Yards', fontsize=12)\n",
    "plt.ylabel('Frequency', fontsize=12)\n",
    "plt.grid(True, alpha=0.5)\n",
    "\n",
    "# Show the plot\n",
    "plt.show()"
   ]
  },
  {
   "cell_type": "code",
   "execution_count": 68,
   "metadata": {},
   "outputs": [
    {
     "data": {
      "image/png": "[encoded data removed]",
      "text/plain": [
       "<Figure size 1000x600 with 1 Axes>"
      ]
     },
     "metadata": {},
     "output_type": "display_data"
    }
   ],
   "source": [
    "# Plotting the histogram of Pass Yards\n",
    "plt.figure(figsize=(10, 6))\n",
    "plt.hist(test_data['passing_yards'], bins=30, edgecolor='black', alpha=0.7)\n",
    "plt.title('Distribution of Pass Yards', fontsize=16)\n",
    "plt.xlabel('Passing Yards', fontsize=12)\n",
    "plt.ylabel('Frequency', fontsize=12)\n",
    "plt.grid(True, alpha=0.5)\n",
    "\n",
    "# Show the plot\n",
    "plt.show()"
   ]
  },
  {
   "cell_type": "code",
   "execution_count": 70,
   "metadata": {},
   "outputs": [
    {
     "data": {
      "image/png": "[encoded data removed]",
      "text/plain": [
       "<Figure size 1000x600 with 1 Axes>"
      ]
     },
     "metadata": {},
     "output_type": "display_data"
    }
   ],
   "source": [
    "# Plotting the histogram of predicted passing yards and true passing yards\n",
    "plt.figure(figsize=(10, 6))\n",
    "\n",
    "# Plot histogram for true passing yards\n",
    "plt.hist(test_data['passing_yards'], bins=30, alpha=0.5, label='True Passing Yards', color='blue')\n",
    "\n",
    "# Plot histogram for predicted passing yards\n",
    "plt.hist(test_data['predicted_passing_yards'], bins=30, alpha=0.5, label='Predicted Passing Yards', color='orange')\n",
    "\n",
    "# Adding labels and title\n",
    "plt.xlabel('Passing Yards')\n",
    "plt.ylabel('Frequency')\n",
    "plt.title('Histogram of True vs Predicted Passing Yards on 2024 Season, Bins = 25')\n",
    "plt.legend(loc='upper right')\n",
    "\n",
    "# Show the plot\n",
    "plt.show()"
   ]
  },
  {
   "cell_type": "markdown",
   "metadata": {},
   "source": [
    "below checks a qb's simulator prediction with a bootstrapped curve that is custom to that team's own passing variance this year. rad"
   ]
  },
  {
   "cell_type": "code",
   "execution_count": null,
   "metadata": {},
   "outputs": [
    {
     "ename": "KeyError",
     "evalue": "'P.Mahomes'",
     "output_type": "error",
     "traceback": [
      "\u001b[1;31m---------------------------------------------------------------------------\u001b[0m",
      "\u001b[1;31mKeyError\u001b[0m                                  Traceback (most recent call last)",
      "Cell \u001b[1;32mIn[72], line 4\u001b[0m\n\u001b[0;32m      1\u001b[0m \u001b[38;5;66;03m# Example: Visualize Some QB's simulated passing yard\u001b[39;00m\n\u001b[0;32m      2\u001b[0m \n\u001b[0;32m      3\u001b[0m \u001b[38;5;66;03m#Put a starting QB In here to view the bootstrapped dist monte carlo simulation output\u001b[39;00m\n\u001b[1;32m----> 4\u001b[0m simulations \u001b[38;5;241m=\u001b[39m qb_simulations[\u001b[38;5;124m'\u001b[39m\u001b[38;5;124mP.Mahomes\u001b[39m\u001b[38;5;124m'\u001b[39m]\n\u001b[0;32m      6\u001b[0m \u001b[38;5;66;03m# Example: Visualize Kyler Murray's simulated passing yards using KDE plot\u001b[39;00m\n\u001b[0;32m      7\u001b[0m plt\u001b[38;5;241m.\u001b[39mfigure(figsize\u001b[38;5;241m=\u001b[39m(\u001b[38;5;241m10\u001b[39m, \u001b[38;5;241m6\u001b[39m))\n",
      "\u001b[1;31mKeyError\u001b[0m: 'P.Mahomes'"
     ]
    }
   ],
   "source": [
    "# # Example: Visualize Some QB's simulated passing yard\n",
    "\n",
    "# #Put a starting QB In here to view the bootstrapped dist monte carlo simulation output\n",
    "# simulations = qb_simulations['P.Mahomes']\n",
    "\n",
    "# # Example: Visualize Kyler Murray's simulated passing yards using KDE plot\n",
    "# plt.figure(figsize=(10, 6))\n",
    "# sns.kdeplot(simulations, fill=True)\n",
    "\n",
    "# # Add titles and labels\n",
    "# plt.title(\"KDE of Simulated Passing Yards for Patrick Mahomes\", fontsize=14)\n",
    "# plt.xlabel(\"Passing Yards\", fontsize=12)\n",
    "# plt.ylabel(\"Density\", fontsize=12)\n",
    "\n",
    "# # Show the plot\n",
    "\n",
    "# plt.show()"
   ]
  },
  {
   "cell_type": "markdown",
   "metadata": {},
   "source": [
    "## To do:\n",
    "* Figure out wtm is when there is a new qb/injury\n",
    "* Find a way to tone down overpredictions (seems to be a weird trend this season people passing for less yards)\n",
    "* Week 1 stuff for next season\n",
    "* Write predictions to some sort of database for front end use? (ask pals with better knowledge on usable coding skills)"
   ]
  }
 ],
 "metadata": {
  "kernelspec": {
   "display_name": "base",
   "language": "python",
   "name": "python3"
  },
  "language_info": {
   "codemirror_mode": {
    "name": "ipython",
    "version": 3
   },
   "file_extension": ".py",
   "mimetype": "text/x-python",
   "name": "python",
   "nbconvert_exporter": "python",
   "pygments_lexer": "ipython3",
   "version": "3.11.4"
  }
 },
 "nbformat": 4,
 "nbformat_minor": 2
}
